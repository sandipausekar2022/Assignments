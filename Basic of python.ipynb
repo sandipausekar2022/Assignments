{
 "cells": [
  {
   "cell_type": "markdown",
   "id": "bc11c3f6",
   "metadata": {},
   "source": [
    "# Basic operations in python"
   ]
  },
  {
   "cell_type": "code",
   "execution_count": 1,
   "id": "131d592e",
   "metadata": {
    "ExecuteTime": {
     "end_time": "2022-12-01T13:20:49.440367Z",
     "start_time": "2022-12-01T13:20:49.410197Z"
    }
   },
   "outputs": [
    {
     "data": {
      "text/plain": [
       "int"
      ]
     },
     "execution_count": 1,
     "metadata": {},
     "output_type": "execute_result"
    }
   ],
   "source": [
    "# variable\n",
    "a=500\n",
    "type(a)"
   ]
  },
  {
   "cell_type": "code",
   "execution_count": 2,
   "id": "a0027473",
   "metadata": {
    "ExecuteTime": {
     "end_time": "2022-12-01T13:20:57.929125Z",
     "start_time": "2022-12-01T13:20:57.919171Z"
    }
   },
   "outputs": [
    {
     "data": {
      "text/plain": [
       "500"
      ]
     },
     "execution_count": 2,
     "metadata": {},
     "output_type": "execute_result"
    }
   ],
   "source": [
    "a"
   ]
  },
  {
   "cell_type": "code",
   "execution_count": 3,
   "id": "fd20cc6a",
   "metadata": {
    "ExecuteTime": {
     "end_time": "2022-12-01T13:23:36.239633Z",
     "start_time": "2022-12-01T13:23:36.215608Z"
    }
   },
   "outputs": [
    {
     "name": "stdout",
     "output_type": "stream",
     "text": [
      "500\n"
     ]
    }
   ],
   "source": [
    "# Also print is used in pycharm and other EDA\n",
    "print(a)"
   ]
  },
  {
   "cell_type": "markdown",
   "id": "32c8004f",
   "metadata": {},
   "source": [
    "# Arthmetic operations (+,-,*,/,%)\n",
    " 1. / - it is used for Quotient\n",
    " 2. % - it is used for Remainder/ Modulo"
   ]
  },
  {
   "cell_type": "code",
   "execution_count": 4,
   "id": "bfb61a73",
   "metadata": {
    "ExecuteTime": {
     "end_time": "2022-12-01T13:31:18.531448Z",
     "start_time": "2022-12-01T13:31:18.517451Z"
    }
   },
   "outputs": [
    {
     "data": {
      "text/plain": [
       "505"
      ]
     },
     "execution_count": 4,
     "metadata": {},
     "output_type": "execute_result"
    }
   ],
   "source": [
    "a+5"
   ]
  },
  {
   "cell_type": "code",
   "execution_count": 5,
   "id": "91cd9385",
   "metadata": {
    "ExecuteTime": {
     "end_time": "2022-12-01T13:32:04.110893Z",
     "start_time": "2022-12-01T13:32:04.099328Z"
    }
   },
   "outputs": [
    {
     "data": {
      "text/plain": [
       "495"
      ]
     },
     "execution_count": 5,
     "metadata": {},
     "output_type": "execute_result"
    }
   ],
   "source": [
    "a-5"
   ]
  },
  {
   "cell_type": "code",
   "execution_count": 6,
   "id": "520d261a",
   "metadata": {
    "ExecuteTime": {
     "end_time": "2022-12-01T13:33:03.720958Z",
     "start_time": "2022-12-01T13:33:03.716265Z"
    }
   },
   "outputs": [],
   "source": [
    "a=10\n",
    "b=20"
   ]
  },
  {
   "cell_type": "code",
   "execution_count": 7,
   "id": "5d4d772b",
   "metadata": {
    "ExecuteTime": {
     "end_time": "2022-12-01T13:33:33.601097Z",
     "start_time": "2022-12-01T13:33:33.589569Z"
    }
   },
   "outputs": [
    {
     "data": {
      "text/plain": [
       "False"
      ]
     },
     "execution_count": 7,
     "metadata": {},
     "output_type": "execute_result"
    }
   ],
   "source": [
    "# Equal to sign is represented by (==)\n",
    "a==b"
   ]
  },
  {
   "cell_type": "code",
   "execution_count": 8,
   "id": "f8286e3e",
   "metadata": {
    "ExecuteTime": {
     "end_time": "2022-12-01T13:41:30.091913Z",
     "start_time": "2022-12-01T13:41:30.074808Z"
    }
   },
   "outputs": [
    {
     "data": {
      "text/plain": [
       "True"
      ]
     },
     "execution_count": 8,
     "metadata": {},
     "output_type": "execute_result"
    }
   ],
   "source": [
    "# Not Equal to sign is represented by (!=)\n",
    "a!=b"
   ]
  },
  {
   "cell_type": "code",
   "execution_count": 9,
   "id": "e1cec1f4",
   "metadata": {
    "ExecuteTime": {
     "end_time": "2022-12-01T13:42:34.752890Z",
     "start_time": "2022-12-01T13:42:34.740251Z"
    }
   },
   "outputs": [
    {
     "data": {
      "text/plain": [
       "False"
      ]
     },
     "execution_count": 9,
     "metadata": {},
     "output_type": "execute_result"
    }
   ],
   "source": [
    "a>b"
   ]
  },
  {
   "cell_type": "code",
   "execution_count": 10,
   "id": "c335248f",
   "metadata": {
    "ExecuteTime": {
     "end_time": "2022-12-01T13:42:51.265143Z",
     "start_time": "2022-12-01T13:42:51.249598Z"
    }
   },
   "outputs": [
    {
     "data": {
      "text/plain": [
       "True"
      ]
     },
     "execution_count": 10,
     "metadata": {},
     "output_type": "execute_result"
    }
   ],
   "source": [
    "a<b"
   ]
  },
  {
   "cell_type": "code",
   "execution_count": null,
   "id": "ee0a02c2",
   "metadata": {},
   "outputs": [],
   "source": [
    "# is used for the single line comment"
   ]
  },
  {
   "cell_type": "code",
   "execution_count": null,
   "id": "fa2b12cb",
   "metadata": {},
   "outputs": [],
   "source": [
    "# Multi-line comment\n",
    "''' this is python class,\n",
    "All student is very clever\n",
    "'''"
   ]
  },
  {
   "cell_type": "markdown",
   "id": "d8112dbe",
   "metadata": {},
   "source": [
    "#  Data types in python\n",
    "There are four type as below "
   ]
  },
  {
   "cell_type": "markdown",
   "id": "688168a9",
   "metadata": {},
   "source": [
    "1. Integer - Whole number\n",
    "2. Float   - Decimal number\n",
    "3. String  - Character\n",
    "4. Boolean - True/ Flase or Y/N"
   ]
  },
  {
   "cell_type": "code",
   "execution_count": 12,
   "id": "0ece1f2d",
   "metadata": {
    "ExecuteTime": {
     "end_time": "2022-12-01T13:54:04.211638Z",
     "start_time": "2022-12-01T13:54:04.200684Z"
    },
    "scrolled": true
   },
   "outputs": [
    {
     "data": {
      "text/plain": [
       "int"
      ]
     },
     "execution_count": 12,
     "metadata": {},
     "output_type": "execute_result"
    }
   ],
   "source": [
    "# 1.Integer - (Whole number)\n",
    "a=500\n",
    "type(a)"
   ]
  },
  {
   "cell_type": "code",
   "execution_count": 14,
   "id": "2ac1fe98",
   "metadata": {
    "ExecuteTime": {
     "end_time": "2022-12-01T13:56:50.308919Z",
     "start_time": "2022-12-01T13:56:50.298992Z"
    }
   },
   "outputs": [
    {
     "name": "stdout",
     "output_type": "stream",
     "text": [
      "<class 'int'>\n"
     ]
    }
   ],
   "source": [
    "print(type(a))"
   ]
  },
  {
   "cell_type": "code",
   "execution_count": 15,
   "id": "fd149ee1",
   "metadata": {
    "ExecuteTime": {
     "end_time": "2022-12-01T13:59:06.074365Z",
     "start_time": "2022-12-01T13:59:06.063171Z"
    }
   },
   "outputs": [],
   "source": [
    "# 2.Float - (Integer number)\n",
    "f=10.5\n"
   ]
  },
  {
   "cell_type": "code",
   "execution_count": 16,
   "id": "5cf0d23a",
   "metadata": {
    "ExecuteTime": {
     "end_time": "2022-12-01T13:59:56.133128Z",
     "start_time": "2022-12-01T13:59:56.120737Z"
    }
   },
   "outputs": [
    {
     "data": {
      "text/plain": [
       "float"
      ]
     },
     "execution_count": 16,
     "metadata": {},
     "output_type": "execute_result"
    }
   ],
   "source": [
    "type(f)"
   ]
  },
  {
   "cell_type": "code",
   "execution_count": 17,
   "id": "5cfb9d2e",
   "metadata": {
    "ExecuteTime": {
     "end_time": "2022-12-01T14:00:22.515868Z",
     "start_time": "2022-12-01T14:00:22.509775Z"
    }
   },
   "outputs": [
    {
     "name": "stdout",
     "output_type": "stream",
     "text": [
      "<class 'float'>\n"
     ]
    }
   ],
   "source": [
    "print(type(f))"
   ]
  },
  {
   "cell_type": "code",
   "execution_count": 18,
   "id": "0c95686f",
   "metadata": {
    "ExecuteTime": {
     "end_time": "2022-12-01T14:11:01.086334Z",
     "start_time": "2022-12-01T14:11:01.071405Z"
    }
   },
   "outputs": [],
   "source": [
    "# 3.String - (Character)\n",
    "s= 'This is python class'\n",
    "s1= \"This is python class\"\n",
    "s2= '''This is python class'''\n"
   ]
  },
  {
   "cell_type": "code",
   "execution_count": 20,
   "id": "17be23a7",
   "metadata": {
    "ExecuteTime": {
     "end_time": "2022-12-01T14:11:50.251537Z",
     "start_time": "2022-12-01T14:11:50.239746Z"
    }
   },
   "outputs": [
    {
     "data": {
      "text/plain": [
       "True"
      ]
     },
     "execution_count": 20,
     "metadata": {},
     "output_type": "execute_result"
    }
   ],
   "source": [
    "s==s1==s2"
   ]
  },
  {
   "cell_type": "code",
   "execution_count": 21,
   "id": "ce965f4b",
   "metadata": {
    "ExecuteTime": {
     "end_time": "2022-12-01T14:32:40.943171Z",
     "start_time": "2022-12-01T14:32:40.920620Z"
    }
   },
   "outputs": [
    {
     "ename": "SyntaxError",
     "evalue": "invalid syntax (3292644112.py, line 1)",
     "output_type": "error",
     "traceback": [
      "\u001b[1;36m  File \u001b[1;32m\"C:\\Users\\Sandip\\AppData\\Local\\Temp\\ipykernel_14388\\3292644112.py\"\u001b[1;36m, line \u001b[1;32m1\u001b[0m\n\u001b[1;33m    d= 'It's a notebook'\u001b[0m\n\u001b[1;37m           ^\u001b[0m\n\u001b[1;31mSyntaxError\u001b[0m\u001b[1;31m:\u001b[0m invalid syntax\n"
     ]
    }
   ],
   "source": [
    "d= 'It's a notebook'"
   ]
  },
  {
   "cell_type": "code",
   "execution_count": 22,
   "id": "4d5cffd9",
   "metadata": {
    "ExecuteTime": {
     "end_time": "2022-12-01T14:33:18.854822Z",
     "start_time": "2022-12-01T14:33:18.850157Z"
    }
   },
   "outputs": [],
   "source": [
    "d= \"It's a notebook\""
   ]
  },
  {
   "cell_type": "code",
   "execution_count": 23,
   "id": "45956449",
   "metadata": {
    "ExecuteTime": {
     "end_time": "2022-12-01T14:33:32.276580Z",
     "start_time": "2022-12-01T14:33:32.264916Z"
    }
   },
   "outputs": [
    {
     "data": {
      "text/plain": [
       "\"It's a notebook\""
      ]
     },
     "execution_count": 23,
     "metadata": {},
     "output_type": "execute_result"
    }
   ],
   "source": [
    "d"
   ]
  },
  {
   "cell_type": "code",
   "execution_count": null,
   "id": "07e2737d",
   "metadata": {},
   "outputs": [],
   "source": [
    "# short cut keys\n",
    "# Title : esc + 1\n",
    "# Markdown : esc + m"
   ]
  },
  {
   "cell_type": "markdown",
   "id": "947ac576",
   "metadata": {},
   "source": [
    "# Typecasting\n",
    "- Typecasting is used to change the data types\n"
   ]
  },
  {
   "cell_type": "code",
   "execution_count": 2,
   "id": "aacf5486",
   "metadata": {
    "ExecuteTime": {
     "end_time": "2022-12-01T16:52:54.760613Z",
     "start_time": "2022-12-01T16:52:54.740651Z"
    }
   },
   "outputs": [
    {
     "data": {
      "text/plain": [
       "float"
      ]
     },
     "execution_count": 2,
     "metadata": {},
     "output_type": "execute_result"
    }
   ],
   "source": [
    "a=10.8\n",
    "type(a)"
   ]
  },
  {
   "cell_type": "code",
   "execution_count": 3,
   "id": "dcb9e6ce",
   "metadata": {
    "ExecuteTime": {
     "end_time": "2022-12-01T16:53:06.355659Z",
     "start_time": "2022-12-01T16:53:06.338072Z"
    }
   },
   "outputs": [
    {
     "data": {
      "text/plain": [
       "10"
      ]
     },
     "execution_count": 3,
     "metadata": {},
     "output_type": "execute_result"
    }
   ],
   "source": [
    "int(a)"
   ]
  },
  {
   "cell_type": "code",
   "execution_count": 6,
   "id": "98deb767",
   "metadata": {
    "ExecuteTime": {
     "end_time": "2022-12-01T16:55:42.465504Z",
     "start_time": "2022-12-01T16:55:42.455903Z"
    }
   },
   "outputs": [
    {
     "data": {
      "text/plain": [
       "int"
      ]
     },
     "execution_count": 6,
     "metadata": {},
     "output_type": "execute_result"
    }
   ],
   "source": [
    "b=int(a)\n",
    "type(b)\n"
   ]
  },
  {
   "cell_type": "code",
   "execution_count": 10,
   "id": "f583e525",
   "metadata": {
    "ExecuteTime": {
     "end_time": "2022-12-01T16:58:05.307849Z",
     "start_time": "2022-12-01T16:58:05.295142Z"
    }
   },
   "outputs": [
    {
     "name": "stdout",
     "output_type": "stream",
     "text": [
      "<class 'str'>\n",
      "10\n"
     ]
    }
   ],
   "source": [
    "b=str(a)\n",
    "print(type(b))\n",
    "print(b)"
   ]
  },
  {
   "cell_type": "code",
   "execution_count": 11,
   "id": "999f7913",
   "metadata": {
    "ExecuteTime": {
     "end_time": "2022-12-01T16:58:56.780196Z",
     "start_time": "2022-12-01T16:58:56.767370Z"
    }
   },
   "outputs": [
    {
     "data": {
      "text/plain": [
       "10"
      ]
     },
     "execution_count": 11,
     "metadata": {},
     "output_type": "execute_result"
    }
   ],
   "source": [
    "a"
   ]
  },
  {
   "cell_type": "code",
   "execution_count": 12,
   "id": "2f9941e1",
   "metadata": {
    "ExecuteTime": {
     "end_time": "2022-12-01T16:59:13.069862Z",
     "start_time": "2022-12-01T16:59:13.063122Z"
    }
   },
   "outputs": [],
   "source": [
    "b=500"
   ]
  },
  {
   "cell_type": "code",
   "execution_count": 13,
   "id": "7d785661",
   "metadata": {
    "ExecuteTime": {
     "end_time": "2022-12-01T16:59:35.642519Z",
     "start_time": "2022-12-01T16:59:35.630788Z"
    }
   },
   "outputs": [
    {
     "data": {
      "text/plain": [
       "True"
      ]
     },
     "execution_count": 13,
     "metadata": {},
     "output_type": "execute_result"
    }
   ],
   "source": [
    "bool(b)"
   ]
  },
  {
   "cell_type": "code",
   "execution_count": 14,
   "id": "2784f73b",
   "metadata": {
    "ExecuteTime": {
     "end_time": "2022-12-01T16:59:43.437355Z",
     "start_time": "2022-12-01T16:59:43.422207Z"
    }
   },
   "outputs": [],
   "source": [
    "z=0"
   ]
  },
  {
   "cell_type": "code",
   "execution_count": 15,
   "id": "0ea64e9d",
   "metadata": {
    "ExecuteTime": {
     "end_time": "2022-12-01T17:00:09.020442Z",
     "start_time": "2022-12-01T17:00:09.005452Z"
    }
   },
   "outputs": [
    {
     "data": {
      "text/plain": [
       "False"
      ]
     },
     "execution_count": 15,
     "metadata": {},
     "output_type": "execute_result"
    }
   ],
   "source": [
    "bool(z)"
   ]
  },
  {
   "cell_type": "code",
   "execution_count": 16,
   "id": "22e0ff3f",
   "metadata": {
    "ExecuteTime": {
     "end_time": "2022-12-01T17:00:33.677937Z",
     "start_time": "2022-12-01T17:00:33.665418Z"
    }
   },
   "outputs": [],
   "source": [
    "k=10"
   ]
  },
  {
   "cell_type": "code",
   "execution_count": 17,
   "id": "26c36284",
   "metadata": {
    "ExecuteTime": {
     "end_time": "2022-12-01T17:01:41.146577Z",
     "start_time": "2022-12-01T17:01:41.132588Z"
    }
   },
   "outputs": [
    {
     "data": {
      "text/plain": [
       "10.0"
      ]
     },
     "execution_count": 17,
     "metadata": {},
     "output_type": "execute_result"
    }
   ],
   "source": [
    "float(k)"
   ]
  },
  {
   "cell_type": "markdown",
   "id": "7fb3f3c2",
   "metadata": {},
   "source": [
    "# String methods"
   ]
  },
  {
   "cell_type": "code",
   "execution_count": 18,
   "id": "b7e3606c",
   "metadata": {
    "ExecuteTime": {
     "end_time": "2022-12-01T17:37:40.291015Z",
     "start_time": "2022-12-01T17:37:40.276987Z"
    }
   },
   "outputs": [],
   "source": [
    "# create string\n",
    "s='we are learing python'"
   ]
  },
  {
   "cell_type": "code",
   "execution_count": 25,
   "id": "18d62a5d",
   "metadata": {
    "ExecuteTime": {
     "end_time": "2022-12-01T18:16:01.057960Z",
     "start_time": "2022-12-01T18:16:01.052464Z"
    }
   },
   "outputs": [
    {
     "data": {
      "text/plain": [
       "'we are learing python'"
      ]
     },
     "execution_count": 25,
     "metadata": {},
     "output_type": "execute_result"
    }
   ],
   "source": [
    "s"
   ]
  },
  {
   "cell_type": "code",
   "execution_count": 20,
   "id": "bc217c19",
   "metadata": {
    "ExecuteTime": {
     "end_time": "2022-12-01T18:05:39.441031Z",
     "start_time": "2022-12-01T18:05:39.428188Z"
    }
   },
   "outputs": [
    {
     "data": {
      "text/plain": [
       "'We are learing python'"
      ]
     },
     "execution_count": 20,
     "metadata": {},
     "output_type": "execute_result"
    }
   ],
   "source": [
    "# its is used for first letter start with capital\n",
    "s.capitalize()"
   ]
  },
  {
   "cell_type": "code",
   "execution_count": 28,
   "id": "006c7ef2",
   "metadata": {
    "ExecuteTime": {
     "end_time": "2022-12-01T18:16:52.391246Z",
     "start_time": "2022-12-01T18:16:52.382065Z"
    }
   },
   "outputs": [
    {
     "data": {
      "text/plain": [
       "1"
      ]
     },
     "execution_count": 28,
     "metadata": {},
     "output_type": "execute_result"
    }
   ],
   "source": [
    "# count is occuring how many times values/ variable ('')\n",
    "s.count('i')"
   ]
  },
  {
   "cell_type": "code",
   "execution_count": 29,
   "id": "46eccc2e",
   "metadata": {
    "ExecuteTime": {
     "end_time": "2022-12-01T18:18:46.181638Z",
     "start_time": "2022-12-01T18:18:46.175736Z"
    }
   },
   "outputs": [
    {
     "data": {
      "text/plain": [
       "3"
      ]
     },
     "execution_count": 29,
     "metadata": {},
     "output_type": "execute_result"
    }
   ],
   "source": [
    "s.count('e')"
   ]
  },
  {
   "cell_type": "code",
   "execution_count": 32,
   "id": "b8cde64d",
   "metadata": {
    "ExecuteTime": {
     "end_time": "2022-12-01T18:21:56.678264Z",
     "start_time": "2022-12-01T18:21:56.664690Z"
    }
   },
   "outputs": [
    {
     "data": {
      "text/plain": [
       "False"
      ]
     },
     "execution_count": 32,
     "metadata": {},
     "output_type": "execute_result"
    }
   ],
   "source": [
    "# ending letter \n",
    "s.endswith('N')"
   ]
  },
  {
   "cell_type": "code",
   "execution_count": 33,
   "id": "1c5d1f22",
   "metadata": {
    "ExecuteTime": {
     "end_time": "2022-12-01T18:22:28.633977Z",
     "start_time": "2022-12-01T18:22:28.619124Z"
    }
   },
   "outputs": [
    {
     "data": {
      "text/plain": [
       "True"
      ]
     },
     "execution_count": 33,
     "metadata": {},
     "output_type": "execute_result"
    }
   ],
   "source": [
    "s.endswith('n')"
   ]
  },
  {
   "cell_type": "code",
   "execution_count": 34,
   "id": "b91e3072",
   "metadata": {
    "ExecuteTime": {
     "end_time": "2022-12-01T18:26:02.525658Z",
     "start_time": "2022-12-01T18:26:02.515009Z"
    }
   },
   "outputs": [
    {
     "data": {
      "text/plain": [
       "3"
      ]
     },
     "execution_count": 34,
     "metadata": {},
     "output_type": "execute_result"
    }
   ],
   "source": [
    "s.find('are')"
   ]
  },
  {
   "cell_type": "code",
   "execution_count": 17,
   "id": "573ea8ff",
   "metadata": {
    "ExecuteTime": {
     "end_time": "2022-12-02T06:37:48.249276Z",
     "start_time": "2022-12-02T06:37:48.239312Z"
    }
   },
   "outputs": [],
   "source": [
    "s='We are learing python'"
   ]
  },
  {
   "cell_type": "code",
   "execution_count": 18,
   "id": "caf38074",
   "metadata": {
    "ExecuteTime": {
     "end_time": "2022-12-02T06:37:53.431951Z",
     "start_time": "2022-12-02T06:37:53.417098Z"
    }
   },
   "outputs": [
    {
     "data": {
      "text/plain": [
       "'We are learing python'"
      ]
     },
     "execution_count": 18,
     "metadata": {},
     "output_type": "execute_result"
    }
   ],
   "source": [
    "s"
   ]
  },
  {
   "cell_type": "code",
   "execution_count": 19,
   "id": "2a08d086",
   "metadata": {
    "ExecuteTime": {
     "end_time": "2022-12-02T06:37:57.012574Z",
     "start_time": "2022-12-02T06:37:56.998353Z"
    }
   },
   "outputs": [
    {
     "data": {
      "text/plain": [
       "15"
      ]
     },
     "execution_count": 19,
     "metadata": {},
     "output_type": "execute_result"
    }
   ],
   "source": [
    "s.index('p')"
   ]
  },
  {
   "cell_type": "code",
   "execution_count": 20,
   "id": "80ec6f54",
   "metadata": {
    "ExecuteTime": {
     "end_time": "2022-12-02T06:38:33.621630Z",
     "start_time": "2022-12-02T06:38:33.610098Z"
    }
   },
   "outputs": [
    {
     "data": {
      "text/plain": [
       "False"
      ]
     },
     "execution_count": 20,
     "metadata": {},
     "output_type": "execute_result"
    }
   ],
   "source": [
    "s.islower()"
   ]
  },
  {
   "cell_type": "code",
   "execution_count": 21,
   "id": "6a9b0ad1",
   "metadata": {
    "ExecuteTime": {
     "end_time": "2022-12-02T06:39:38.731254Z",
     "start_time": "2022-12-02T06:39:38.722345Z"
    }
   },
   "outputs": [],
   "source": [
    "s= 'we are learing python'"
   ]
  },
  {
   "cell_type": "code",
   "execution_count": 22,
   "id": "75f8cf5f",
   "metadata": {
    "ExecuteTime": {
     "end_time": "2022-12-02T06:40:06.701193Z",
     "start_time": "2022-12-02T06:40:06.688304Z"
    }
   },
   "outputs": [
    {
     "data": {
      "text/plain": [
       "True"
      ]
     },
     "execution_count": 22,
     "metadata": {},
     "output_type": "execute_result"
    }
   ],
   "source": [
    "s.islower()"
   ]
  },
  {
   "cell_type": "code",
   "execution_count": 23,
   "id": "122c28c8",
   "metadata": {
    "ExecuteTime": {
     "end_time": "2022-12-02T06:40:41.172738Z",
     "start_time": "2022-12-02T06:40:41.163296Z"
    }
   },
   "outputs": [
    {
     "data": {
      "text/plain": [
       "'w-e- -a-r-e- -l-e-a-r-i-n-g- -p-y-t-h-o-n'"
      ]
     },
     "execution_count": 23,
     "metadata": {},
     "output_type": "execute_result"
    }
   ],
   "source": [
    "# Imp \n",
    "'-'.join(s)"
   ]
  },
  {
   "cell_type": "code",
   "execution_count": 24,
   "id": "08c33fe6",
   "metadata": {
    "ExecuteTime": {
     "end_time": "2022-12-02T06:41:20.476956Z",
     "start_time": "2022-12-02T06:41:20.454756Z"
    }
   },
   "outputs": [
    {
     "data": {
      "text/plain": [
       "'w#e# #a#r#e# #l#e#a#r#i#n#g# #p#y#t#h#o#n'"
      ]
     },
     "execution_count": 24,
     "metadata": {},
     "output_type": "execute_result"
    }
   ],
   "source": [
    "'#'.join(s)"
   ]
  },
  {
   "cell_type": "code",
   "execution_count": 26,
   "id": "e30f4fe7",
   "metadata": {
    "ExecuteTime": {
     "end_time": "2022-12-02T06:43:25.706477Z",
     "start_time": "2022-12-02T06:43:25.701384Z"
    }
   },
   "outputs": [
    {
     "data": {
      "text/plain": [
       "'we are learing python'"
      ]
     },
     "execution_count": 26,
     "metadata": {},
     "output_type": "execute_result"
    }
   ],
   "source": [
    "s"
   ]
  },
  {
   "cell_type": "code",
   "execution_count": 28,
   "id": "3e26c1ed",
   "metadata": {
    "ExecuteTime": {
     "end_time": "2022-12-02T06:43:30.820277Z",
     "start_time": "2022-12-02T06:43:30.813857Z"
    }
   },
   "outputs": [],
   "source": [
    "# Imp\n",
    "s=s.replace(' ','-')"
   ]
  },
  {
   "cell_type": "code",
   "execution_count": 29,
   "id": "2f4523b0",
   "metadata": {
    "ExecuteTime": {
     "end_time": "2022-12-02T06:43:46.497089Z",
     "start_time": "2022-12-02T06:43:46.480857Z"
    }
   },
   "outputs": [
    {
     "data": {
      "text/plain": [
       "'we-are-learing-python'"
      ]
     },
     "execution_count": 29,
     "metadata": {},
     "output_type": "execute_result"
    }
   ],
   "source": [
    "s"
   ]
  },
  {
   "cell_type": "code",
   "execution_count": 31,
   "id": "b2e63a2b",
   "metadata": {
    "ExecuteTime": {
     "end_time": "2022-12-02T06:45:37.971072Z",
     "start_time": "2022-12-02T06:45:37.960855Z"
    }
   },
   "outputs": [],
   "source": [
    "s=s.replace('we','They')"
   ]
  },
  {
   "cell_type": "code",
   "execution_count": 32,
   "id": "d44929de",
   "metadata": {
    "ExecuteTime": {
     "end_time": "2022-12-02T06:45:44.695964Z",
     "start_time": "2022-12-02T06:45:44.687957Z"
    }
   },
   "outputs": [
    {
     "data": {
      "text/plain": [
       "'They-are-learing-python'"
      ]
     },
     "execution_count": 32,
     "metadata": {},
     "output_type": "execute_result"
    }
   ],
   "source": [
    "s"
   ]
  },
  {
   "cell_type": "code",
   "execution_count": 35,
   "id": "297d8f2b",
   "metadata": {
    "ExecuteTime": {
     "end_time": "2022-12-02T06:51:59.929903Z",
     "start_time": "2022-12-02T06:51:59.918851Z"
    }
   },
   "outputs": [],
   "source": [
    "s=s.replace('They','We')"
   ]
  },
  {
   "cell_type": "code",
   "execution_count": 36,
   "id": "0d309428",
   "metadata": {
    "ExecuteTime": {
     "end_time": "2022-12-02T06:52:11.554358Z",
     "start_time": "2022-12-02T06:52:11.543652Z"
    }
   },
   "outputs": [
    {
     "data": {
      "text/plain": [
       "'We-are-learing-python'"
      ]
     },
     "execution_count": 36,
     "metadata": {},
     "output_type": "execute_result"
    }
   ],
   "source": [
    "s"
   ]
  },
  {
   "cell_type": "code",
   "execution_count": 39,
   "id": "697566ec",
   "metadata": {
    "ExecuteTime": {
     "end_time": "2022-12-02T06:52:48.090689Z",
     "start_time": "2022-12-02T06:52:48.076588Z"
    }
   },
   "outputs": [
    {
     "data": {
      "text/plain": [
       "['We', 'are', 'learing', 'python']"
      ]
     },
     "execution_count": 39,
     "metadata": {},
     "output_type": "execute_result"
    }
   ],
   "source": [
    "# Imp\n",
    "s.split('-')"
   ]
  },
  {
   "cell_type": "code",
   "execution_count": 40,
   "id": "169103ca",
   "metadata": {
    "ExecuteTime": {
     "end_time": "2022-12-02T06:53:44.799807Z",
     "start_time": "2022-12-02T06:53:44.788563Z"
    }
   },
   "outputs": [],
   "source": [
    "q='abc@gmail.com'"
   ]
  },
  {
   "cell_type": "code",
   "execution_count": 44,
   "id": "2ec332af",
   "metadata": {
    "ExecuteTime": {
     "end_time": "2022-12-02T06:54:19.737219Z",
     "start_time": "2022-12-02T06:54:19.725000Z"
    }
   },
   "outputs": [
    {
     "data": {
      "text/plain": [
       "['abc', 'gmail.com']"
      ]
     },
     "execution_count": 44,
     "metadata": {},
     "output_type": "execute_result"
    }
   ],
   "source": [
    "q.split('@')"
   ]
  },
  {
   "cell_type": "code",
   "execution_count": 46,
   "id": "e6c910f5",
   "metadata": {
    "ExecuteTime": {
     "end_time": "2022-12-02T06:55:21.107703Z",
     "start_time": "2022-12-02T06:55:21.096593Z"
    }
   },
   "outputs": [],
   "source": [
    "s= 'we are learing python'"
   ]
  },
  {
   "cell_type": "code",
   "execution_count": 47,
   "id": "fa99dfe9",
   "metadata": {
    "ExecuteTime": {
     "end_time": "2022-12-02T06:55:27.985329Z",
     "start_time": "2022-12-02T06:55:27.975560Z"
    }
   },
   "outputs": [
    {
     "data": {
      "text/plain": [
       "'we are learing python'"
      ]
     },
     "execution_count": 47,
     "metadata": {},
     "output_type": "execute_result"
    }
   ],
   "source": [
    "s"
   ]
  },
  {
   "cell_type": "code",
   "execution_count": 48,
   "id": "8e15bb5b",
   "metadata": {
    "ExecuteTime": {
     "end_time": "2022-12-02T06:55:50.901907Z",
     "start_time": "2022-12-02T06:55:50.891273Z"
    }
   },
   "outputs": [
    {
     "data": {
      "text/plain": [
       "'WE ARE LEARING PYTHON'"
      ]
     },
     "execution_count": 48,
     "metadata": {},
     "output_type": "execute_result"
    }
   ],
   "source": [
    "s.swapcase()"
   ]
  },
  {
   "cell_type": "code",
   "execution_count": 49,
   "id": "030ac714",
   "metadata": {
    "ExecuteTime": {
     "end_time": "2022-12-02T06:56:07.095915Z",
     "start_time": "2022-12-02T06:56:07.088011Z"
    }
   },
   "outputs": [
    {
     "data": {
      "text/plain": [
       "'WE ARE LEARING PYTHON'"
      ]
     },
     "execution_count": 49,
     "metadata": {},
     "output_type": "execute_result"
    }
   ],
   "source": [
    "s.upper()"
   ]
  },
  {
   "cell_type": "code",
   "execution_count": 50,
   "id": "8200a1fb",
   "metadata": {
    "ExecuteTime": {
     "end_time": "2022-12-02T07:04:50.105589Z",
     "start_time": "2022-12-02T07:04:50.095457Z"
    }
   },
   "outputs": [
    {
     "data": {
      "text/plain": [
       "'we are learing python'"
      ]
     },
     "execution_count": 50,
     "metadata": {},
     "output_type": "execute_result"
    }
   ],
   "source": [
    "s.lower()"
   ]
  },
  {
   "cell_type": "code",
   "execution_count": 51,
   "id": "182cce84",
   "metadata": {
    "ExecuteTime": {
     "end_time": "2022-12-02T07:05:04.742780Z",
     "start_time": "2022-12-02T07:05:04.727662Z"
    }
   },
   "outputs": [
    {
     "data": {
      "text/plain": [
       "'We Are Learing Python'"
      ]
     },
     "execution_count": 51,
     "metadata": {},
     "output_type": "execute_result"
    }
   ],
   "source": [
    "s.title()"
   ]
  },
  {
   "cell_type": "markdown",
   "id": "3d348215",
   "metadata": {},
   "source": [
    "# Data structure(DS)\n",
    "1. Lists \n",
    "2. Tuple \n",
    "3. Dictionary \n",
    "4. Sets"
   ]
  },
  {
   "cell_type": "markdown",
   "id": "91c1b89e",
   "metadata": {},
   "source": [
    "# Lists \n",
    " 1. List are the built in data structure in python\n",
    " 2. lists are hetrogeneous data structure \n",
    " 3. lists are mutuable"
   ]
  },
  {
   "cell_type": "code",
   "execution_count": 49,
   "id": "13a1cd34",
   "metadata": {
    "ExecuteTime": {
     "end_time": "2022-12-02T15:23:41.363469Z",
     "start_time": "2022-12-02T15:23:41.347508Z"
    }
   },
   "outputs": [],
   "source": [
    "# creating lists-"
   ]
  },
  {
   "cell_type": "code",
   "execution_count": 52,
   "id": "a5d1183f",
   "metadata": {
    "ExecuteTime": {
     "end_time": "2022-12-02T15:24:13.978080Z",
     "start_time": "2022-12-02T15:24:13.962453Z"
    }
   },
   "outputs": [],
   "source": [
    "lst=[]"
   ]
  },
  {
   "cell_type": "code",
   "execution_count": 3,
   "id": "ed1c33fe",
   "metadata": {
    "ExecuteTime": {
     "end_time": "2022-12-02T14:41:21.884673Z",
     "start_time": "2022-12-02T14:41:21.862322Z"
    }
   },
   "outputs": [
    {
     "data": {
      "text/plain": [
       "list"
      ]
     },
     "execution_count": 3,
     "metadata": {},
     "output_type": "execute_result"
    }
   ],
   "source": [
    "type(lst)"
   ]
  },
  {
   "cell_type": "code",
   "execution_count": 4,
   "id": "fcff843e",
   "metadata": {
    "ExecuteTime": {
     "end_time": "2022-12-02T14:41:58.541474Z",
     "start_time": "2022-12-02T14:41:58.531916Z"
    }
   },
   "outputs": [],
   "source": [
    "lst=[10,10.5,True, 'Hello']"
   ]
  },
  {
   "cell_type": "code",
   "execution_count": 5,
   "id": "1e1dcb6e",
   "metadata": {
    "ExecuteTime": {
     "end_time": "2022-12-02T14:43:27.839528Z",
     "start_time": "2022-12-02T14:43:27.827135Z"
    }
   },
   "outputs": [
    {
     "data": {
      "text/plain": [
       "[10, 10.5, True, 'Hello']"
      ]
     },
     "execution_count": 5,
     "metadata": {},
     "output_type": "execute_result"
    }
   ],
   "source": [
    "lst"
   ]
  },
  {
   "cell_type": "code",
   "execution_count": 7,
   "id": "41bfc4e5",
   "metadata": {
    "ExecuteTime": {
     "end_time": "2022-12-02T14:44:11.703508Z",
     "start_time": "2022-12-02T14:44:11.690499Z"
    }
   },
   "outputs": [
    {
     "data": {
      "text/plain": [
       "list"
      ]
     },
     "execution_count": 7,
     "metadata": {},
     "output_type": "execute_result"
    }
   ],
   "source": [
    "type(lst)"
   ]
  },
  {
   "cell_type": "code",
   "execution_count": 8,
   "id": "9f5e9212",
   "metadata": {
    "ExecuteTime": {
     "end_time": "2022-12-02T14:47:01.040597Z",
     "start_time": "2022-12-02T14:47:01.032503Z"
    }
   },
   "outputs": [],
   "source": [
    "lst1=list()"
   ]
  },
  {
   "cell_type": "code",
   "execution_count": 9,
   "id": "4c267dfd",
   "metadata": {
    "ExecuteTime": {
     "end_time": "2022-12-02T14:47:36.515279Z",
     "start_time": "2022-12-02T14:47:36.491619Z"
    }
   },
   "outputs": [
    {
     "data": {
      "text/plain": [
       "list"
      ]
     },
     "execution_count": 9,
     "metadata": {},
     "output_type": "execute_result"
    }
   ],
   "source": [
    "type(lst1)"
   ]
  },
  {
   "cell_type": "code",
   "execution_count": 10,
   "id": "923edf5d",
   "metadata": {
    "ExecuteTime": {
     "end_time": "2022-12-02T14:50:19.225312Z",
     "start_time": "2022-12-02T14:50:19.205884Z"
    }
   },
   "outputs": [
    {
     "data": {
      "text/plain": [
       "[10, 10.5, True, 'Hello']"
      ]
     },
     "execution_count": 10,
     "metadata": {},
     "output_type": "execute_result"
    }
   ],
   "source": [
    "lst"
   ]
  },
  {
   "cell_type": "code",
   "execution_count": 11,
   "id": "7687390b",
   "metadata": {
    "ExecuteTime": {
     "end_time": "2022-12-02T14:53:08.378445Z",
     "start_time": "2022-12-02T14:53:08.368024Z"
    }
   },
   "outputs": [
    {
     "data": {
      "text/plain": [
       "'Hello'"
      ]
     },
     "execution_count": 11,
     "metadata": {},
     "output_type": "execute_result"
    }
   ],
   "source": [
    "# Accessing elememts from a list\n",
    "lst[3]"
   ]
  },
  {
   "cell_type": "code",
   "execution_count": 12,
   "id": "494cf053",
   "metadata": {
    "ExecuteTime": {
     "end_time": "2022-12-02T14:54:01.287568Z",
     "start_time": "2022-12-02T14:54:01.274995Z"
    }
   },
   "outputs": [
    {
     "data": {
      "text/plain": [
       "[10.5, True]"
      ]
     },
     "execution_count": 12,
     "metadata": {},
     "output_type": "execute_result"
    }
   ],
   "source": [
    "lst[1:3]"
   ]
  },
  {
   "cell_type": "code",
   "execution_count": 13,
   "id": "5053193e",
   "metadata": {
    "ExecuteTime": {
     "end_time": "2022-12-02T14:54:53.320909Z",
     "start_time": "2022-12-02T14:54:53.297286Z"
    }
   },
   "outputs": [
    {
     "data": {
      "text/plain": [
       "'Hello'"
      ]
     },
     "execution_count": 13,
     "metadata": {},
     "output_type": "execute_result"
    }
   ],
   "source": [
    "lst[-1]"
   ]
  },
  {
   "cell_type": "code",
   "execution_count": 14,
   "id": "f40f38e1",
   "metadata": {
    "ExecuteTime": {
     "end_time": "2022-12-02T14:58:53.658872Z",
     "start_time": "2022-12-02T14:58:53.648763Z"
    }
   },
   "outputs": [],
   "source": [
    "# append\n",
    "lst.append(1000)"
   ]
  },
  {
   "cell_type": "code",
   "execution_count": 15,
   "id": "c6d5e7e6",
   "metadata": {
    "ExecuteTime": {
     "end_time": "2022-12-02T14:59:09.615476Z",
     "start_time": "2022-12-02T14:59:09.599305Z"
    }
   },
   "outputs": [
    {
     "data": {
      "text/plain": [
       "[10, 10.5, True, 'Hello', 1000]"
      ]
     },
     "execution_count": 15,
     "metadata": {},
     "output_type": "execute_result"
    }
   ],
   "source": [
    "lst"
   ]
  },
  {
   "cell_type": "code",
   "execution_count": 16,
   "id": "8f6bf813",
   "metadata": {
    "ExecuteTime": {
     "end_time": "2022-12-02T15:00:20.226745Z",
     "start_time": "2022-12-02T15:00:20.211642Z"
    }
   },
   "outputs": [
    {
     "data": {
      "text/plain": [
       "1"
      ]
     },
     "execution_count": 16,
     "metadata": {},
     "output_type": "execute_result"
    }
   ],
   "source": [
    "# Count\n",
    "lst.count(1000)"
   ]
  },
  {
   "cell_type": "code",
   "execution_count": 17,
   "id": "0826d38b",
   "metadata": {
    "ExecuteTime": {
     "end_time": "2022-12-02T15:00:46.030682Z",
     "start_time": "2022-12-02T15:00:46.006491Z"
    }
   },
   "outputs": [
    {
     "data": {
      "text/plain": [
       "0"
      ]
     },
     "execution_count": 17,
     "metadata": {},
     "output_type": "execute_result"
    }
   ],
   "source": [
    "lst.count(50)"
   ]
  },
  {
   "cell_type": "code",
   "execution_count": 18,
   "id": "c668210e",
   "metadata": {
    "ExecuteTime": {
     "end_time": "2022-12-02T15:01:56.154682Z",
     "start_time": "2022-12-02T15:01:56.145149Z"
    }
   },
   "outputs": [
    {
     "data": {
      "text/plain": [
       "1"
      ]
     },
     "execution_count": 18,
     "metadata": {},
     "output_type": "execute_result"
    }
   ],
   "source": [
    "# Index\n",
    "lst.index(10.5)"
   ]
  },
  {
   "cell_type": "code",
   "execution_count": 20,
   "id": "599a9420",
   "metadata": {
    "ExecuteTime": {
     "end_time": "2022-12-02T15:03:58.093662Z",
     "start_time": "2022-12-02T15:03:58.087428Z"
    }
   },
   "outputs": [
    {
     "data": {
      "text/plain": [
       "[10, 10.5, True, 'Hello', 1000]"
      ]
     },
     "execution_count": 20,
     "metadata": {},
     "output_type": "execute_result"
    }
   ],
   "source": [
    "lst"
   ]
  },
  {
   "cell_type": "code",
   "execution_count": 21,
   "id": "9dc73e0b",
   "metadata": {
    "ExecuteTime": {
     "end_time": "2022-12-02T15:05:13.917522Z",
     "start_time": "2022-12-02T15:05:13.898515Z"
    }
   },
   "outputs": [],
   "source": [
    "# Insert\n",
    "lst.insert(0,50)"
   ]
  },
  {
   "cell_type": "code",
   "execution_count": 22,
   "id": "56b2aaaa",
   "metadata": {
    "ExecuteTime": {
     "end_time": "2022-12-02T15:05:24.434481Z",
     "start_time": "2022-12-02T15:05:24.419562Z"
    }
   },
   "outputs": [
    {
     "data": {
      "text/plain": [
       "[50, 10, 10.5, True, 'Hello', 1000]"
      ]
     },
     "execution_count": 22,
     "metadata": {},
     "output_type": "execute_result"
    }
   ],
   "source": [
    "lst"
   ]
  },
  {
   "cell_type": "code",
   "execution_count": 28,
   "id": "1d027af1",
   "metadata": {
    "ExecuteTime": {
     "end_time": "2022-12-02T15:09:32.295313Z",
     "start_time": "2022-12-02T15:09:32.282230Z"
    }
   },
   "outputs": [
    {
     "data": {
      "text/plain": [
       "True"
      ]
     },
     "execution_count": 28,
     "metadata": {},
     "output_type": "execute_result"
    }
   ],
   "source": [
    "# pop- permantly delete the last value from lst\n",
    "lst.pop()"
   ]
  },
  {
   "cell_type": "code",
   "execution_count": 32,
   "id": "8ebfe74f",
   "metadata": {
    "ExecuteTime": {
     "end_time": "2022-12-02T15:13:01.637590Z",
     "start_time": "2022-12-02T15:13:01.627673Z"
    }
   },
   "outputs": [
    {
     "data": {
      "text/plain": [
       "[50, 10, 10.5]"
      ]
     },
     "execution_count": 32,
     "metadata": {},
     "output_type": "execute_result"
    }
   ],
   "source": [
    "lst"
   ]
  },
  {
   "cell_type": "code",
   "execution_count": 34,
   "id": "e234cc72",
   "metadata": {
    "ExecuteTime": {
     "end_time": "2022-12-02T15:14:04.888534Z",
     "start_time": "2022-12-02T15:14:04.872905Z"
    }
   },
   "outputs": [],
   "source": [
    "lst.append(True)"
   ]
  },
  {
   "cell_type": "code",
   "execution_count": 35,
   "id": "4d3eca57",
   "metadata": {
    "ExecuteTime": {
     "end_time": "2022-12-02T15:14:13.921647Z",
     "start_time": "2022-12-02T15:14:13.902020Z"
    }
   },
   "outputs": [
    {
     "data": {
      "text/plain": [
       "[50, 10, 10.5, True, True]"
      ]
     },
     "execution_count": 35,
     "metadata": {},
     "output_type": "execute_result"
    }
   ],
   "source": [
    "lst"
   ]
  },
  {
   "cell_type": "code",
   "execution_count": 36,
   "id": "cf7c2318",
   "metadata": {
    "ExecuteTime": {
     "end_time": "2022-12-02T15:15:24.962696Z",
     "start_time": "2022-12-02T15:15:24.954119Z"
    }
   },
   "outputs": [
    {
     "data": {
      "text/plain": [
       "True"
      ]
     },
     "execution_count": 36,
     "metadata": {},
     "output_type": "execute_result"
    }
   ],
   "source": [
    "lst.pop()"
   ]
  },
  {
   "cell_type": "code",
   "execution_count": 37,
   "id": "d1589e8b",
   "metadata": {
    "ExecuteTime": {
     "end_time": "2022-12-02T15:15:33.664828Z",
     "start_time": "2022-12-02T15:15:33.649201Z"
    }
   },
   "outputs": [
    {
     "data": {
      "text/plain": [
       "[50, 10, 10.5, True]"
      ]
     },
     "execution_count": 37,
     "metadata": {},
     "output_type": "execute_result"
    }
   ],
   "source": [
    "lst"
   ]
  },
  {
   "cell_type": "code",
   "execution_count": 44,
   "id": "17ca8f5f",
   "metadata": {
    "ExecuteTime": {
     "end_time": "2022-12-02T15:17:53.784657Z",
     "start_time": "2022-12-02T15:17:53.765264Z"
    }
   },
   "outputs": [
    {
     "data": {
      "text/plain": [
       "[50, 10, 10.5, True, 'Hello']"
      ]
     },
     "execution_count": 44,
     "metadata": {},
     "output_type": "execute_result"
    }
   ],
   "source": [
    "lst"
   ]
  },
  {
   "cell_type": "code",
   "execution_count": 45,
   "id": "24f9aa0c",
   "metadata": {
    "ExecuteTime": {
     "end_time": "2022-12-02T15:18:35.217213Z",
     "start_time": "2022-12-02T15:18:35.201229Z"
    }
   },
   "outputs": [],
   "source": [
    "# reverse\n",
    "lst.reverse()"
   ]
  },
  {
   "cell_type": "code",
   "execution_count": 46,
   "id": "976de253",
   "metadata": {
    "ExecuteTime": {
     "end_time": "2022-12-02T15:18:45.186032Z",
     "start_time": "2022-12-02T15:18:45.176131Z"
    }
   },
   "outputs": [
    {
     "data": {
      "text/plain": [
       "['Hello', True, 10.5, 10, 50]"
      ]
     },
     "execution_count": 46,
     "metadata": {},
     "output_type": "execute_result"
    }
   ],
   "source": [
    "lst"
   ]
  },
  {
   "cell_type": "code",
   "execution_count": 47,
   "id": "13a7a953",
   "metadata": {
    "ExecuteTime": {
     "end_time": "2022-12-02T15:21:13.232764Z",
     "start_time": "2022-12-02T15:21:13.224084Z"
    }
   },
   "outputs": [],
   "source": [
    "# remove- permantly remove from lst\n",
    "lst.remove(10.5)"
   ]
  },
  {
   "cell_type": "code",
   "execution_count": 48,
   "id": "ee79bea0",
   "metadata": {
    "ExecuteTime": {
     "end_time": "2022-12-02T15:21:19.866510Z",
     "start_time": "2022-12-02T15:21:19.850882Z"
    }
   },
   "outputs": [
    {
     "data": {
      "text/plain": [
       "['Hello', True, 10, 50]"
      ]
     },
     "execution_count": 48,
     "metadata": {},
     "output_type": "execute_result"
    }
   ],
   "source": [
    "lst"
   ]
  },
  {
   "cell_type": "code",
   "execution_count": 64,
   "id": "e9c566b0",
   "metadata": {
    "ExecuteTime": {
     "end_time": "2022-12-02T15:34:16.907033Z",
     "start_time": "2022-12-02T15:34:16.891018Z"
    }
   },
   "outputs": [],
   "source": [
    "lst=['Hello', True, 10.5, 10, 50]"
   ]
  },
  {
   "cell_type": "code",
   "execution_count": 65,
   "id": "1dbdb57b",
   "metadata": {
    "ExecuteTime": {
     "end_time": "2022-12-02T15:34:22.506374Z",
     "start_time": "2022-12-02T15:34:22.491206Z"
    }
   },
   "outputs": [
    {
     "data": {
      "text/plain": [
       "['Hello', True, 10.5, 10, 50]"
      ]
     },
     "execution_count": 65,
     "metadata": {},
     "output_type": "execute_result"
    }
   ],
   "source": [
    "lst"
   ]
  },
  {
   "cell_type": "code",
   "execution_count": 66,
   "id": "3d70ba36",
   "metadata": {
    "ExecuteTime": {
     "end_time": "2022-12-02T15:35:09.990691Z",
     "start_time": "2022-12-02T15:35:09.983260Z"
    }
   },
   "outputs": [
    {
     "data": {
      "text/plain": [
       "True"
      ]
     },
     "execution_count": 66,
     "metadata": {},
     "output_type": "execute_result"
    }
   ],
   "source": [
    "# Replacing elements in series \n",
    "lst[1]"
   ]
  },
  {
   "cell_type": "code",
   "execution_count": 68,
   "id": "2a485cbf",
   "metadata": {
    "ExecuteTime": {
     "end_time": "2022-12-02T15:35:29.877429Z",
     "start_time": "2022-12-02T15:35:29.859292Z"
    }
   },
   "outputs": [],
   "source": [
    "lst[1]=False"
   ]
  },
  {
   "cell_type": "code",
   "execution_count": 69,
   "id": "b68e3468",
   "metadata": {
    "ExecuteTime": {
     "end_time": "2022-12-02T15:35:39.049665Z",
     "start_time": "2022-12-02T15:35:39.034264Z"
    }
   },
   "outputs": [
    {
     "data": {
      "text/plain": [
       "['Hello', False, 10.5, 10, 50]"
      ]
     },
     "execution_count": 69,
     "metadata": {},
     "output_type": "execute_result"
    }
   ],
   "source": [
    "lst"
   ]
  },
  {
   "cell_type": "code",
   "execution_count": 70,
   "id": "7924a1ef",
   "metadata": {
    "ExecuteTime": {
     "end_time": "2022-12-02T15:36:00.974512Z",
     "start_time": "2022-12-02T15:36:00.966792Z"
    }
   },
   "outputs": [],
   "source": [
    "lst[-1]=5000"
   ]
  },
  {
   "cell_type": "code",
   "execution_count": 71,
   "id": "3131276c",
   "metadata": {
    "ExecuteTime": {
     "end_time": "2022-12-02T15:36:13.731989Z",
     "start_time": "2022-12-02T15:36:13.718980Z"
    }
   },
   "outputs": [
    {
     "data": {
      "text/plain": [
       "['Hello', False, 10.5, 10, 5000]"
      ]
     },
     "execution_count": 71,
     "metadata": {},
     "output_type": "execute_result"
    }
   ],
   "source": [
    "lst"
   ]
  },
  {
   "cell_type": "markdown",
   "id": "211bb1d1",
   "metadata": {},
   "source": [
    "# Tuple\n",
    "1. Tuples are ordered and hetrogeneous data sturucture.\n",
    "2. Tuples are immutable( Does not changes in variable or data)"
   ]
  },
  {
   "cell_type": "code",
   "execution_count": 2,
   "id": "f3a9b243",
   "metadata": {
    "ExecuteTime": {
     "end_time": "2022-12-02T17:34:48.168238Z",
     "start_time": "2022-12-02T17:34:48.157942Z"
    }
   },
   "outputs": [],
   "source": [
    "# Creating a tuple \n",
    "\n",
    "t=()"
   ]
  },
  {
   "cell_type": "code",
   "execution_count": 3,
   "id": "5211206f",
   "metadata": {
    "ExecuteTime": {
     "end_time": "2022-12-02T17:34:51.162835Z",
     "start_time": "2022-12-02T17:34:51.141498Z"
    }
   },
   "outputs": [
    {
     "data": {
      "text/plain": [
       "tuple"
      ]
     },
     "execution_count": 3,
     "metadata": {},
     "output_type": "execute_result"
    }
   ],
   "source": [
    "type(t)"
   ]
  },
  {
   "cell_type": "code",
   "execution_count": 5,
   "id": "ff58e1f7",
   "metadata": {
    "ExecuteTime": {
     "end_time": "2022-12-02T17:34:58.746556Z",
     "start_time": "2022-12-02T17:34:58.730847Z"
    }
   },
   "outputs": [],
   "source": [
    "t=(10,1.2,'Hi', 1000,15.2)"
   ]
  },
  {
   "cell_type": "code",
   "execution_count": 6,
   "id": "0cc0fff0",
   "metadata": {
    "ExecuteTime": {
     "end_time": "2022-12-02T17:35:06.126772Z",
     "start_time": "2022-12-02T17:35:06.110907Z"
    }
   },
   "outputs": [
    {
     "data": {
      "text/plain": [
       "(10, 1.2, 'Hi', 1000, 15.2)"
      ]
     },
     "execution_count": 6,
     "metadata": {},
     "output_type": "execute_result"
    }
   ],
   "source": [
    "t"
   ]
  },
  {
   "cell_type": "code",
   "execution_count": 7,
   "id": "74af88ed",
   "metadata": {
    "ExecuteTime": {
     "end_time": "2022-12-02T17:35:12.405320Z",
     "start_time": "2022-12-02T17:35:12.389689Z"
    }
   },
   "outputs": [
    {
     "data": {
      "text/plain": [
       "1"
      ]
     },
     "execution_count": 7,
     "metadata": {},
     "output_type": "execute_result"
    }
   ],
   "source": [
    "t.count(1000)"
   ]
  },
  {
   "cell_type": "code",
   "execution_count": 80,
   "id": "e1ba16d2",
   "metadata": {
    "ExecuteTime": {
     "end_time": "2022-12-02T17:14:40.311184Z",
     "start_time": "2022-12-02T17:14:40.302704Z"
    }
   },
   "outputs": [],
   "source": [
    "# Accessing elements from tuple"
   ]
  },
  {
   "cell_type": "code",
   "execution_count": 8,
   "id": "86319a4d",
   "metadata": {
    "ExecuteTime": {
     "end_time": "2022-12-02T17:35:15.662218Z",
     "start_time": "2022-12-02T17:35:15.637837Z"
    }
   },
   "outputs": [
    {
     "data": {
      "text/plain": [
       "15.2"
      ]
     },
     "execution_count": 8,
     "metadata": {},
     "output_type": "execute_result"
    }
   ],
   "source": [
    "t[4]"
   ]
  },
  {
   "cell_type": "code",
   "execution_count": 9,
   "id": "25448b52",
   "metadata": {
    "ExecuteTime": {
     "end_time": "2022-12-02T17:35:18.685458Z",
     "start_time": "2022-12-02T17:35:18.671450Z"
    }
   },
   "outputs": [
    {
     "data": {
      "text/plain": [
       "('Hi', 1000, 15.2)"
      ]
     },
     "execution_count": 9,
     "metadata": {},
     "output_type": "execute_result"
    }
   ],
   "source": [
    "t[2:]"
   ]
  },
  {
   "cell_type": "code",
   "execution_count": 83,
   "id": "2a3c57d2",
   "metadata": {
    "ExecuteTime": {
     "end_time": "2022-12-02T17:16:34.951528Z",
     "start_time": "2022-12-02T17:16:34.943016Z"
    }
   },
   "outputs": [],
   "source": [
    "# Replacing elements"
   ]
  },
  {
   "cell_type": "code",
   "execution_count": 10,
   "id": "d4c9e7eb",
   "metadata": {
    "ExecuteTime": {
     "end_time": "2022-12-02T17:35:21.407465Z",
     "start_time": "2022-12-02T17:35:21.393745Z"
    }
   },
   "outputs": [
    {
     "data": {
      "text/plain": [
       "(10, 1.2, 'Hi', 1000, 15.2)"
      ]
     },
     "execution_count": 10,
     "metadata": {},
     "output_type": "execute_result"
    }
   ],
   "source": [
    "t"
   ]
  },
  {
   "cell_type": "code",
   "execution_count": 11,
   "id": "7ab11ea2",
   "metadata": {
    "ExecuteTime": {
     "end_time": "2022-12-02T17:35:25.862609Z",
     "start_time": "2022-12-02T17:35:25.840187Z"
    }
   },
   "outputs": [
    {
     "ename": "TypeError",
     "evalue": "'tuple' object does not support item assignment",
     "output_type": "error",
     "traceback": [
      "\u001b[1;31m---------------------------------------------------------------------------\u001b[0m",
      "\u001b[1;31mTypeError\u001b[0m                                 Traceback (most recent call last)",
      "\u001b[1;32m~\\AppData\\Local\\Temp\\ipykernel_8500\\3219227436.py\u001b[0m in \u001b[0;36m<module>\u001b[1;34m\u001b[0m\n\u001b[1;32m----> 1\u001b[1;33m \u001b[0mt\u001b[0m\u001b[1;33m[\u001b[0m\u001b[1;36m4\u001b[0m\u001b[1;33m]\u001b[0m\u001b[1;33m=\u001b[0m\u001b[1;36m200\u001b[0m\u001b[1;33m\u001b[0m\u001b[1;33m\u001b[0m\u001b[0m\n\u001b[0m",
      "\u001b[1;31mTypeError\u001b[0m: 'tuple' object does not support item assignment"
     ]
    }
   ],
   "source": [
    "t[4]=200"
   ]
  },
  {
   "cell_type": "code",
   "execution_count": 12,
   "id": "51b9dcef",
   "metadata": {
    "ExecuteTime": {
     "end_time": "2022-12-02T17:35:28.406944Z",
     "start_time": "2022-12-02T17:35:28.394730Z"
    }
   },
   "outputs": [],
   "source": [
    "t=list(t)"
   ]
  },
  {
   "cell_type": "code",
   "execution_count": 13,
   "id": "d54b683d",
   "metadata": {
    "ExecuteTime": {
     "end_time": "2022-12-02T17:35:47.256043Z",
     "start_time": "2022-12-02T17:35:47.236175Z"
    }
   },
   "outputs": [
    {
     "data": {
      "text/plain": [
       "list"
      ]
     },
     "execution_count": 13,
     "metadata": {},
     "output_type": "execute_result"
    }
   ],
   "source": [
    "type(t)"
   ]
  },
  {
   "cell_type": "code",
   "execution_count": 14,
   "id": "a8d205cf",
   "metadata": {
    "ExecuteTime": {
     "end_time": "2022-12-02T17:36:06.404359Z",
     "start_time": "2022-12-02T17:36:06.388731Z"
    }
   },
   "outputs": [
    {
     "data": {
      "text/plain": [
       "[10, 1.2, 'Hi', 1000, 15.2]"
      ]
     },
     "execution_count": 14,
     "metadata": {},
     "output_type": "execute_result"
    }
   ],
   "source": [
    "t"
   ]
  },
  {
   "cell_type": "code",
   "execution_count": 15,
   "id": "8bb15181",
   "metadata": {
    "ExecuteTime": {
     "end_time": "2022-12-02T17:36:23.992818Z",
     "start_time": "2022-12-02T17:36:23.977185Z"
    }
   },
   "outputs": [],
   "source": [
    "t[4]=200"
   ]
  },
  {
   "cell_type": "code",
   "execution_count": 16,
   "id": "c9b5023f",
   "metadata": {
    "ExecuteTime": {
     "end_time": "2022-12-02T17:36:31.257865Z",
     "start_time": "2022-12-02T17:36:31.240623Z"
    }
   },
   "outputs": [
    {
     "data": {
      "text/plain": [
       "[10, 1.2, 'Hi', 1000, 200]"
      ]
     },
     "execution_count": 16,
     "metadata": {},
     "output_type": "execute_result"
    }
   ],
   "source": [
    "t"
   ]
  },
  {
   "cell_type": "code",
   "execution_count": 17,
   "id": "688c1f7d",
   "metadata": {
    "ExecuteTime": {
     "end_time": "2022-12-02T17:37:18.519108Z",
     "start_time": "2022-12-02T17:37:18.506030Z"
    }
   },
   "outputs": [],
   "source": [
    "t=tuple(t)"
   ]
  },
  {
   "cell_type": "code",
   "execution_count": 18,
   "id": "b7b3068b",
   "metadata": {
    "ExecuteTime": {
     "end_time": "2022-12-02T17:37:25.258064Z",
     "start_time": "2022-12-02T17:37:25.242100Z"
    }
   },
   "outputs": [
    {
     "data": {
      "text/plain": [
       "(10, 1.2, 'Hi', 1000, 200)"
      ]
     },
     "execution_count": 18,
     "metadata": {},
     "output_type": "execute_result"
    }
   ],
   "source": [
    "t"
   ]
  },
  {
   "cell_type": "markdown",
   "id": "6284c453",
   "metadata": {},
   "source": [
    "# Dictionary \n",
    "1. Python dictionary are orderd collection of item.\n",
    "2. Dictionary is mutable data strcture .\n",
    "3. It has key and value pair."
   ]
  },
  {
   "cell_type": "code",
   "execution_count": 19,
   "id": "8055a2b5",
   "metadata": {
    "ExecuteTime": {
     "end_time": "2022-12-02T17:46:49.478857Z",
     "start_time": "2022-12-02T17:46:49.464757Z"
    }
   },
   "outputs": [],
   "source": [
    "# Creating an dictionary"
   ]
  },
  {
   "cell_type": "code",
   "execution_count": 21,
   "id": "29091f98",
   "metadata": {
    "ExecuteTime": {
     "end_time": "2022-12-02T17:47:15.813691Z",
     "start_time": "2022-12-02T17:47:15.800841Z"
    }
   },
   "outputs": [
    {
     "data": {
      "text/plain": [
       "dict"
      ]
     },
     "execution_count": 21,
     "metadata": {},
     "output_type": "execute_result"
    }
   ],
   "source": [
    "d={}\n",
    "type(d)"
   ]
  },
  {
   "cell_type": "code",
   "execution_count": 23,
   "id": "0bd44420",
   "metadata": {
    "ExecuteTime": {
     "end_time": "2022-12-02T17:56:05.466330Z",
     "start_time": "2022-12-02T17:56:05.447547Z"
    }
   },
   "outputs": [
    {
     "data": {
      "text/plain": [
       "dict"
      ]
     },
     "execution_count": 23,
     "metadata": {},
     "output_type": "execute_result"
    }
   ],
   "source": [
    "d1=dict()\n",
    "type(d1)"
   ]
  },
  {
   "cell_type": "code",
   "execution_count": 24,
   "id": "557132ea",
   "metadata": {
    "ExecuteTime": {
     "end_time": "2022-12-02T17:56:34.867999Z",
     "start_time": "2022-12-02T17:56:34.849093Z"
    }
   },
   "outputs": [],
   "source": [
    "# Adding elements in a dictionary"
   ]
  },
  {
   "cell_type": "code",
   "execution_count": 30,
   "id": "ad3e8c54",
   "metadata": {
    "ExecuteTime": {
     "end_time": "2022-12-02T18:04:10.551517Z",
     "start_time": "2022-12-02T18:04:10.535743Z"
    }
   },
   "outputs": [],
   "source": [
    "d={1:10,2:'A',3:True}"
   ]
  },
  {
   "cell_type": "code",
   "execution_count": 31,
   "id": "b51b8faf",
   "metadata": {
    "ExecuteTime": {
     "end_time": "2022-12-02T18:04:14.125027Z",
     "start_time": "2022-12-02T18:04:14.117546Z"
    }
   },
   "outputs": [
    {
     "data": {
      "text/plain": [
       "{1: 10, 2: 'A', 3: True}"
      ]
     },
     "execution_count": 31,
     "metadata": {},
     "output_type": "execute_result"
    }
   ],
   "source": [
    "d"
   ]
  },
  {
   "cell_type": "code",
   "execution_count": 32,
   "id": "3ae12bde",
   "metadata": {
    "ExecuteTime": {
     "end_time": "2022-12-02T18:04:38.325464Z",
     "start_time": "2022-12-02T18:04:38.317785Z"
    }
   },
   "outputs": [],
   "source": [
    "# get"
   ]
  },
  {
   "cell_type": "code",
   "execution_count": 33,
   "id": "1ade89f9",
   "metadata": {
    "ExecuteTime": {
     "end_time": "2022-12-02T18:05:30.867856Z",
     "start_time": "2022-12-02T18:05:30.850315Z"
    }
   },
   "outputs": [
    {
     "data": {
      "text/plain": [
       "'A'"
      ]
     },
     "execution_count": 33,
     "metadata": {},
     "output_type": "execute_result"
    }
   ],
   "source": [
    "d.get(2)"
   ]
  },
  {
   "cell_type": "code",
   "execution_count": 34,
   "id": "88fed8e7",
   "metadata": {
    "ExecuteTime": {
     "end_time": "2022-12-02T18:05:46.576656Z",
     "start_time": "2022-12-02T18:05:46.564451Z"
    }
   },
   "outputs": [],
   "source": [
    "# Items "
   ]
  },
  {
   "cell_type": "code",
   "execution_count": 35,
   "id": "1e9fa906",
   "metadata": {
    "ExecuteTime": {
     "end_time": "2022-12-02T18:06:19.585163Z",
     "start_time": "2022-12-02T18:06:19.571998Z"
    }
   },
   "outputs": [
    {
     "data": {
      "text/plain": [
       "dict_items([(1, 10), (2, 'A'), (3, True)])"
      ]
     },
     "execution_count": 35,
     "metadata": {},
     "output_type": "execute_result"
    }
   ],
   "source": [
    "d.items()"
   ]
  },
  {
   "cell_type": "code",
   "execution_count": 36,
   "id": "f5ec2ee5",
   "metadata": {
    "ExecuteTime": {
     "end_time": "2022-12-02T18:07:27.808142Z",
     "start_time": "2022-12-02T18:07:27.793752Z"
    }
   },
   "outputs": [
    {
     "data": {
      "text/plain": [
       "dict_keys([1, 2, 3])"
      ]
     },
     "execution_count": 36,
     "metadata": {},
     "output_type": "execute_result"
    }
   ],
   "source": [
    "# Keys\n",
    "d.keys()"
   ]
  },
  {
   "cell_type": "code",
   "execution_count": 39,
   "id": "a1ffac87",
   "metadata": {
    "ExecuteTime": {
     "end_time": "2022-12-02T18:10:59.079204Z",
     "start_time": "2022-12-02T18:10:59.063873Z"
    }
   },
   "outputs": [],
   "source": [
    "# Adding values in dictionary (update)\n",
    "d.update({'Car':'Bmw'})"
   ]
  },
  {
   "cell_type": "code",
   "execution_count": 40,
   "id": "369bb960",
   "metadata": {
    "ExecuteTime": {
     "end_time": "2022-12-02T18:11:04.333158Z",
     "start_time": "2022-12-02T18:11:04.317532Z"
    }
   },
   "outputs": [
    {
     "data": {
      "text/plain": [
       "{1: 10, 2: 'A', 3: True, 'Car': 'Bmw'}"
      ]
     },
     "execution_count": 40,
     "metadata": {},
     "output_type": "execute_result"
    }
   ],
   "source": [
    "d"
   ]
  },
  {
   "cell_type": "code",
   "execution_count": 42,
   "id": "dcaff5f4",
   "metadata": {
    "ExecuteTime": {
     "end_time": "2022-12-02T18:13:34.236799Z",
     "start_time": "2022-12-02T18:13:34.227227Z"
    }
   },
   "outputs": [
    {
     "data": {
      "text/plain": [
       "True"
      ]
     },
     "execution_count": 42,
     "metadata": {},
     "output_type": "execute_result"
    }
   ],
   "source": [
    "#pop\n",
    "d.pop(3)"
   ]
  },
  {
   "cell_type": "code",
   "execution_count": 43,
   "id": "47f5d014",
   "metadata": {
    "ExecuteTime": {
     "end_time": "2022-12-02T18:13:42.208948Z",
     "start_time": "2022-12-02T18:13:42.193330Z"
    }
   },
   "outputs": [
    {
     "data": {
      "text/plain": [
       "{1: 10, 2: 'A', 'Car': 'Bmw'}"
      ]
     },
     "execution_count": 43,
     "metadata": {},
     "output_type": "execute_result"
    }
   ],
   "source": [
    "d"
   ]
  },
  {
   "cell_type": "code",
   "execution_count": 44,
   "id": "499cbdac",
   "metadata": {
    "ExecuteTime": {
     "end_time": "2022-12-02T18:14:28.790503Z",
     "start_time": "2022-12-02T18:14:28.778425Z"
    }
   },
   "outputs": [
    {
     "data": {
      "text/plain": [
       "dict_values([10, 'A', 'Bmw'])"
      ]
     },
     "execution_count": 44,
     "metadata": {},
     "output_type": "execute_result"
    }
   ],
   "source": [
    "# Values\n",
    "d.values()"
   ]
  },
  {
   "cell_type": "markdown",
   "id": "c73aa513",
   "metadata": {},
   "source": [
    "# Set\n",
    "1. Set is a collection which is unordered unindexed.\n",
    "2. set is immutable.\n",
    "3. set are unordered , so you cannot be sure in which order the items will appear.\n",
    "4. sets do not allow duplicate values.\n",
    "5. onces a set is created. ypu cannot change its items, but you remove items and add new items.\n",
    "6. As set are unordered. They do not support indexing and slicing opreations."
   ]
  },
  {
   "cell_type": "code",
   "execution_count": 6,
   "id": "25420af0",
   "metadata": {
    "ExecuteTime": {
     "end_time": "2022-12-03T04:15:55.389610Z",
     "start_time": "2022-12-03T04:15:55.371206Z"
    }
   },
   "outputs": [
    {
     "data": {
      "text/plain": [
       "set"
      ]
     },
     "execution_count": 6,
     "metadata": {},
     "output_type": "execute_result"
    }
   ],
   "source": [
    "# Creating an empty set \n",
    "s= {}\n",
    "s= set()\n",
    "type(s)"
   ]
  },
  {
   "cell_type": "code",
   "execution_count": 7,
   "id": "eef7ef2a",
   "metadata": {
    "ExecuteTime": {
     "end_time": "2022-12-03T04:16:30.461050Z",
     "start_time": "2022-12-03T04:16:30.451486Z"
    }
   },
   "outputs": [],
   "source": [
    "s={1,2,3,10.5,'A'}"
   ]
  },
  {
   "cell_type": "code",
   "execution_count": 9,
   "id": "0c1edd38",
   "metadata": {
    "ExecuteTime": {
     "end_time": "2022-12-03T04:17:47.175703Z",
     "start_time": "2022-12-03T04:17:47.161107Z"
    }
   },
   "outputs": [
    {
     "data": {
      "text/plain": [
       "{1, 10.5, 2, 3, 'A'}"
      ]
     },
     "execution_count": 9,
     "metadata": {},
     "output_type": "execute_result"
    }
   ],
   "source": [
    "s"
   ]
  },
  {
   "cell_type": "code",
   "execution_count": 11,
   "id": "fbbc52bf",
   "metadata": {
    "ExecuteTime": {
     "end_time": "2022-12-03T04:18:17.757794Z",
     "start_time": "2022-12-03T04:18:17.739910Z"
    }
   },
   "outputs": [
    {
     "data": {
      "text/plain": [
       "{1, 2, 3, 4, 5}"
      ]
     },
     "execution_count": 11,
     "metadata": {},
     "output_type": "execute_result"
    }
   ],
   "source": [
    "# Does not allow duplicate items \n",
    "s1={1,1,2,3,4,5,}\n",
    "s1"
   ]
  },
  {
   "cell_type": "code",
   "execution_count": 13,
   "id": "68604627",
   "metadata": {
    "ExecuteTime": {
     "end_time": "2022-12-03T04:20:16.990361Z",
     "start_time": "2022-12-03T04:20:16.840324Z"
    }
   },
   "outputs": [
    {
     "ename": "TypeError",
     "evalue": "'set' object is not subscriptable",
     "output_type": "error",
     "traceback": [
      "\u001b[1;31m---------------------------------------------------------------------------\u001b[0m",
      "\u001b[1;31mTypeError\u001b[0m                                 Traceback (most recent call last)",
      "\u001b[1;32m~\\AppData\\Local\\Temp\\ipykernel_12684\\542979697.py\u001b[0m in \u001b[0;36m<module>\u001b[1;34m\u001b[0m\n\u001b[0;32m      1\u001b[0m \u001b[1;31m# Does not support indexing\u001b[0m\u001b[1;33m\u001b[0m\u001b[1;33m\u001b[0m\u001b[0m\n\u001b[1;32m----> 2\u001b[1;33m \u001b[0ms\u001b[0m\u001b[1;33m[\u001b[0m\u001b[1;36m0\u001b[0m\u001b[1;33m]\u001b[0m\u001b[1;33m\u001b[0m\u001b[1;33m\u001b[0m\u001b[0m\n\u001b[0m",
      "\u001b[1;31mTypeError\u001b[0m: 'set' object is not subscriptable"
     ]
    }
   ],
   "source": [
    "# Does not support indexing\n",
    "s[0]"
   ]
  },
  {
   "cell_type": "code",
   "execution_count": 15,
   "id": "f79e1c6a",
   "metadata": {
    "ExecuteTime": {
     "end_time": "2022-12-03T04:21:49.360563Z",
     "start_time": "2022-12-03T04:21:49.348934Z"
    }
   },
   "outputs": [
    {
     "data": {
      "text/plain": [
       "{1, 10.5, 100, 2, 3, 'A'}"
      ]
     },
     "execution_count": 15,
     "metadata": {},
     "output_type": "execute_result"
    }
   ],
   "source": [
    "# Add\n",
    "s.add(100)\n",
    "s"
   ]
  },
  {
   "cell_type": "code",
   "execution_count": 16,
   "id": "d038e7e6",
   "metadata": {
    "ExecuteTime": {
     "end_time": "2022-12-03T04:27:31.096570Z",
     "start_time": "2022-12-03T04:27:31.090966Z"
    }
   },
   "outputs": [],
   "source": [
    "a={'apple', 'mango','cherry'}\n",
    "b={'microsoft', 'google', 'cherry'}"
   ]
  },
  {
   "cell_type": "code",
   "execution_count": null,
   "id": "240d8dcc",
   "metadata": {},
   "outputs": [],
   "source": [
    "# Difference"
   ]
  },
  {
   "cell_type": "code",
   "execution_count": 17,
   "id": "3c6952c0",
   "metadata": {
    "ExecuteTime": {
     "end_time": "2022-12-03T04:28:52.757739Z",
     "start_time": "2022-12-03T04:28:52.737507Z"
    }
   },
   "outputs": [
    {
     "data": {
      "text/plain": [
       "{'apple', 'mango'}"
      ]
     },
     "execution_count": 17,
     "metadata": {},
     "output_type": "execute_result"
    }
   ],
   "source": [
    "a.difference(b)"
   ]
  },
  {
   "cell_type": "code",
   "execution_count": 18,
   "id": "72bcf712",
   "metadata": {
    "ExecuteTime": {
     "end_time": "2022-12-03T04:29:31.042752Z",
     "start_time": "2022-12-03T04:29:31.033487Z"
    }
   },
   "outputs": [
    {
     "data": {
      "text/plain": [
       "{'google', 'microsoft'}"
      ]
     },
     "execution_count": 18,
     "metadata": {},
     "output_type": "execute_result"
    }
   ],
   "source": [
    "b.difference(a)"
   ]
  },
  {
   "cell_type": "code",
   "execution_count": 19,
   "id": "59a3fc75",
   "metadata": {
    "ExecuteTime": {
     "end_time": "2022-12-03T04:30:43.824573Z",
     "start_time": "2022-12-03T04:30:43.807301Z"
    }
   },
   "outputs": [],
   "source": [
    "# intersection"
   ]
  },
  {
   "cell_type": "code",
   "execution_count": 20,
   "id": "ea04de48",
   "metadata": {
    "ExecuteTime": {
     "end_time": "2022-12-03T04:31:07.965870Z",
     "start_time": "2022-12-03T04:31:07.944141Z"
    }
   },
   "outputs": [
    {
     "data": {
      "text/plain": [
       "{'cherry'}"
      ]
     },
     "execution_count": 20,
     "metadata": {},
     "output_type": "execute_result"
    }
   ],
   "source": [
    "a.intersection(b)"
   ]
  },
  {
   "cell_type": "code",
   "execution_count": 21,
   "id": "c1ac8725",
   "metadata": {
    "ExecuteTime": {
     "end_time": "2022-12-03T04:31:32.787968Z",
     "start_time": "2022-12-03T04:31:32.773386Z"
    }
   },
   "outputs": [
    {
     "data": {
      "text/plain": [
       "{'cherry'}"
      ]
     },
     "execution_count": 21,
     "metadata": {},
     "output_type": "execute_result"
    }
   ],
   "source": [
    "b.intersection(a)"
   ]
  },
  {
   "cell_type": "code",
   "execution_count": 22,
   "id": "7413cbd9",
   "metadata": {
    "ExecuteTime": {
     "end_time": "2022-12-03T04:32:17.168633Z",
     "start_time": "2022-12-03T04:32:17.152676Z"
    }
   },
   "outputs": [
    {
     "data": {
      "text/plain": [
       "{'apple', 'cherry', 'google', 'mango', 'microsoft'}"
      ]
     },
     "execution_count": 22,
     "metadata": {},
     "output_type": "execute_result"
    }
   ],
   "source": [
    "# union\n",
    "a.union(b)"
   ]
  },
  {
   "cell_type": "code",
   "execution_count": 23,
   "id": "43d93363",
   "metadata": {
    "ExecuteTime": {
     "end_time": "2022-12-03T04:33:23.834274Z",
     "start_time": "2022-12-03T04:33:23.821924Z"
    }
   },
   "outputs": [
    {
     "data": {
      "text/plain": [
       "{'apple', 'cherry', 'google', 'mango', 'microsoft'}"
      ]
     },
     "execution_count": 23,
     "metadata": {},
     "output_type": "execute_result"
    }
   ],
   "source": [
    "b.union(a)"
   ]
  },
  {
   "cell_type": "code",
   "execution_count": null,
   "id": "979a65cb",
   "metadata": {},
   "outputs": [],
   "source": [
    "# pop - anything will be deleted ,do not control on them \n",
    "# Its randomly deleted"
   ]
  },
  {
   "cell_type": "code",
   "execution_count": 24,
   "id": "427952d6",
   "metadata": {
    "ExecuteTime": {
     "end_time": "2022-12-03T04:35:56.260396Z",
     "start_time": "2022-12-03T04:35:56.251034Z"
    }
   },
   "outputs": [
    {
     "data": {
      "text/plain": [
       "'cherry'"
      ]
     },
     "execution_count": 24,
     "metadata": {},
     "output_type": "execute_result"
    }
   ],
   "source": [
    "a.pop()"
   ]
  }
 ],
 "metadata": {
  "_draft": {
   "nbviewer_url": "https://gist.github.com/e6044a7812dc5894eede7defd372b9eb"
  },
  "gist": {
   "data": {
    "description": "Basic of python.ipynb",
    "public": true
   },
   "id": "e6044a7812dc5894eede7defd372b9eb"
  },
  "kernelspec": {
   "display_name": "Python 3 (ipykernel)",
   "language": "python",
   "name": "python3"
  },
  "language_info": {
   "codemirror_mode": {
    "name": "ipython",
    "version": 3
   },
   "file_extension": ".py",
   "mimetype": "text/x-python",
   "name": "python",
   "nbconvert_exporter": "python",
   "pygments_lexer": "ipython3",
   "version": "3.9.13"
  }
 },
 "nbformat": 4,
 "nbformat_minor": 5
}
